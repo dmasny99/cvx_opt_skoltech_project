{
 "cells": [
  {
   "cell_type": "markdown",
   "metadata": {},
   "source": [
    "Try to rewrite code here"
   ]
  },
  {
   "cell_type": "code",
   "execution_count": 4,
   "metadata": {},
   "outputs": [],
   "source": [
    "import numpy as np"
   ]
  },
  {
   "cell_type": "code",
   "execution_count": 7,
   "metadata": {},
   "outputs": [],
   "source": [
    "def ddot_(vector_a, vector_b):\n",
    "    if len(vector_a) != len(vector_b):\n",
    "        raise Exception('Dinemtion of vectors is not equal')\n",
    "    return np.dot(vector_a, vector_b)"
   ]
  },
  {
   "cell_type": "code",
   "execution_count": 8,
   "metadata": {},
   "outputs": [
    {
     "data": {
      "text/plain": [
       "6"
      ]
     },
     "execution_count": 8,
     "metadata": {},
     "output_type": "execute_result"
    }
   ],
   "source": [
    "ddot_([1, 2, 3], [1, 1, 1])"
   ]
  },
  {
   "cell_type": "code",
   "execution_count": 9,
   "metadata": {},
   "outputs": [],
   "source": [
    "def dnrm2_(vector):\n",
    "    return np.linalg.norm(vector)"
   ]
  },
  {
   "cell_type": "code",
   "execution_count": 10,
   "metadata": {
    "scrolled": true
   },
   "outputs": [
    {
     "data": {
      "text/plain": [
       "3.7416573867739413"
      ]
     },
     "execution_count": 10,
     "metadata": {},
     "output_type": "execute_result"
    }
   ],
   "source": [
    "dnrm2_([1, 2, 3])"
   ]
  },
  {
   "cell_type": "code",
   "execution_count": 14,
   "metadata": {},
   "outputs": [],
   "source": [
    "def daxpy_(vector_a, vector_b, alpha):\n",
    "    vector_a = alpha * np.array(vector_b) + np.array(vector_a)\n",
    "    return vector_a"
   ]
  },
  {
   "cell_type": "code",
   "execution_count": 15,
   "metadata": {
    "scrolled": false
   },
   "outputs": [
    {
     "data": {
      "text/plain": [
       "array([3, 4, 5])"
      ]
     },
     "execution_count": 15,
     "metadata": {},
     "output_type": "execute_result"
    }
   ],
   "source": [
    "daxpy_([1, 2, 3], [1, 1, 1], 2)"
   ]
  },
  {
   "cell_type": "code",
   "execution_count": null,
   "metadata": {},
   "outputs": [],
   "source": [
    "def tv_denoise():\n",
    "    pass"
   ]
  },
  {
   "cell_type": "code",
   "execution_count": 47,
   "metadata": {},
   "outputs": [],
   "source": [
    "#matlab function\n",
    "def TVdenoise(noisy_image, delta, eps_rel = 10e-3):\n",
    "    \"\"\"\n",
    "    noisy image - np array !!!\n",
    "    delta = tau * sqrt(M * N) * sigma\n",
    "        -tau - less than 1 (0.85 in paper)\n",
    "        -M, N - size of immage\n",
    "        -sigma - std of the noise in the pixel\n",
    "    eps_rel - relative accuracy 1e-3 by default\n",
    "    \"\"\"\n",
    "    alpha = np.sum(noisy_image.flatten()) / len(noisy_image)\n",
    "    X = alpha * np.ones(noisy_image.shape)\n",
    "    mdelta = np.linalg.norm(X - noisy_image, 'fro')\n",
    "    if mdelta < delta:\n",
    "        #maybe put some info here\n",
    "        return\n",
    "    elif mdelta < 1.1 * delta:\n",
    "        #maybe throw warning\n",
    "        print('Convergence problems may arise')\n",
    "    R = max(noisy_image.flatten())\n",
    "    mn = noisy_image.shape[0] * noisy_image.shape[1]\n",
    "    epsilon = R * mn * eps_rel\n",
    "    mu = epsilon / mn\n",
    "    Lmu = 8 / mu\n",
    "    N = np.ceil(2 * np.sqrt(8 * mn) * delta / epsilon)\n",
    "    X,k,epsilon_k = tv_denoise(noisy_image, delta, epsilon, Lmu, mu, N, 0) # rewrite C func!!!!"
   ]
  },
  {
   "cell_type": "code",
   "execution_count": 6,
   "metadata": {},
   "outputs": [
    {
     "data": {
      "text/plain": [
       "\"\\nif nargin < 2\\t\\n\\terror('Too few input parameters');\\nelseif nargin == 2\\n\\teps_rel = 1e-3;\\nend\\ntic\\n\\n% The special case where the solution is the constant image.\\nalpha = sum(B(:))/numel(B);  разворачиваем матрицу в вектор и делим \\nX = alpha*ones(size(B));\\nmdelta = norm(X-B,'fro');\\nif  mdelta < delta\\n    % The constant image is the solution.\\n    info = info_type_denoise(1,0,0,0,toc);\\n    return;\\nelseif mdelta < 1.1*delta\\n    % The constant image is almost a solution.\\n    warning('Convergence problems may arise')\\nend\\n\\n% Set parameters for denoising algorithm.\\nR = max(B(:));\\nmn = numel(B);\\nepsilon = R*mn*eps_rel;\\nmu = epsilon/mn;\\nLmu = 8/mu ;\\nN = int32( ceil(2*sqrt(8*mn)*delta/epsilon) );\\n\\n% Compute TV solution via C function.\\n[X,k,epsilon_k] = tv_denoise(B,delta,epsilon,Lmu,mu,N,0);\\n\\n\""
      ]
     },
     "execution_count": 6,
     "metadata": {},
     "output_type": "execute_result"
    }
   ],
   "source": [
    "\"\"\"\n",
    "if nargin < 2\t\n",
    "\terror('Too few input parameters');\n",
    "elseif nargin == 2\n",
    "\teps_rel = 1e-3;\n",
    "end\n",
    "tic\n",
    "\n",
    "% The special case where the solution is the constant image.\n",
    "alpha = sum(B(:))/numel(B);  разворачиваем матрицу в вектор и делим \n",
    "X = alpha*ones(size(B));\n",
    "mdelta = norm(X-B,'fro');\n",
    "if  mdelta < delta\n",
    "    % The constant image is the solution.\n",
    "    info = info_type_denoise(1,0,0,0,toc);\n",
    "    return;\n",
    "elseif mdelta < 1.1*delta\n",
    "    % The constant image is almost a solution.\n",
    "    warning('Convergence problems may arise')\n",
    "end\n",
    "\n",
    "% Set parameters for denoising algorithm.\n",
    "R = max(B(:));\n",
    "mn = numel(B);\n",
    "epsilon = R*mn*eps_rel;\n",
    "mu = epsilon/mn;\n",
    "Lmu = 8/mu ;\n",
    "N = int32( ceil(2*sqrt(8*mn)*delta/epsilon) );\n",
    "\n",
    "% Compute TV solution via C function.\n",
    "[X,k,epsilon_k] = tv_denoise(B,delta,epsilon,Lmu,mu,N,0);\n",
    "\n",
    "\"\"\""
   ]
  },
  {
   "cell_type": "code",
   "execution_count": 30,
   "metadata": {},
   "outputs": [],
   "source": [
    "B = np.array([[1, 2], [3, 4]])"
   ]
  },
  {
   "cell_type": "code",
   "execution_count": 31,
   "metadata": {},
   "outputs": [
    {
     "data": {
      "text/plain": [
       "4"
      ]
     },
     "execution_count": 31,
     "metadata": {},
     "output_type": "execute_result"
    }
   ],
   "source": [
    "max(B.flatten())"
   ]
  },
  {
   "cell_type": "code",
   "execution_count": 19,
   "metadata": {},
   "outputs": [
    {
     "data": {
      "text/plain": [
       "array([1, 2, 3, 4])"
      ]
     },
     "execution_count": 19,
     "metadata": {},
     "output_type": "execute_result"
    }
   ],
   "source": [
    "B.flatten()"
   ]
  },
  {
   "cell_type": "code",
   "execution_count": 21,
   "metadata": {},
   "outputs": [
    {
     "data": {
      "text/plain": [
       "4"
      ]
     },
     "execution_count": 21,
     "metadata": {},
     "output_type": "execute_result"
    }
   ],
   "source": [
    "B.flatten().size"
   ]
  },
  {
   "cell_type": "code",
   "execution_count": 22,
   "metadata": {
    "scrolled": true
   },
   "outputs": [
    {
     "data": {
      "text/plain": [
       "10"
      ]
     },
     "execution_count": 22,
     "metadata": {},
     "output_type": "execute_result"
    }
   ],
   "source": [
    "np.sum(B.flatten())"
   ]
  },
  {
   "cell_type": "code",
   "execution_count": 25,
   "metadata": {},
   "outputs": [],
   "source": [
    "alpha = np.sum(B.flatten()) / len(B)"
   ]
  },
  {
   "cell_type": "code",
   "execution_count": 26,
   "metadata": {},
   "outputs": [],
   "source": [
    "t = alpha * np.ones(B.shape)"
   ]
  },
  {
   "cell_type": "code",
   "execution_count": 27,
   "metadata": {},
   "outputs": [
    {
     "data": {
      "text/plain": [
       "array([[5., 5.],\n",
       "       [5., 5.]])"
      ]
     },
     "execution_count": 27,
     "metadata": {},
     "output_type": "execute_result"
    }
   ],
   "source": [
    "t"
   ]
  },
  {
   "cell_type": "code",
   "execution_count": 29,
   "metadata": {},
   "outputs": [
    {
     "data": {
      "text/plain": [
       "5.477225575051661"
      ]
     },
     "execution_count": 29,
     "metadata": {},
     "output_type": "execute_result"
    }
   ],
   "source": [
    "np.linalg.norm(t - B, 'fro')"
   ]
  },
  {
   "cell_type": "code",
   "execution_count": 32,
   "metadata": {},
   "outputs": [
    {
     "data": {
      "text/plain": [
       "4"
      ]
     },
     "execution_count": 32,
     "metadata": {},
     "output_type": "execute_result"
    }
   ],
   "source": [
    "B.shape[0] * B.shape[1]"
   ]
  },
  {
   "cell_type": "code",
   "execution_count": 46,
   "metadata": {},
   "outputs": [
    {
     "ename": "NameError",
     "evalue": "name 'int32' is not defined",
     "output_type": "error",
     "traceback": [
      "\u001b[0;31m---------------------------------------------------------------------------\u001b[0m",
      "\u001b[0;31mNameError\u001b[0m                                 Traceback (most recent call last)",
      "\u001b[0;32m/tmp/ipykernel_47989/3107543579.py\u001b[0m in \u001b[0;36m<module>\u001b[0;34m\u001b[0m\n\u001b[0;32m----> 1\u001b[0;31m \u001b[0mtt\u001b[0m \u001b[0;34m=\u001b[0m \u001b[0mnp\u001b[0m\u001b[0;34m.\u001b[0m\u001b[0marray\u001b[0m\u001b[0;34m(\u001b[0m\u001b[0;34m[\u001b[0m\u001b[0;34m[\u001b[0m\u001b[0;34m-\u001b[0m\u001b[0;36m1.9\u001b[0m\u001b[0;34m,\u001b[0m \u001b[0;34m-\u001b[0m\u001b[0;36m0.2\u001b[0m\u001b[0;34m,\u001b[0m \u001b[0;36m3.4\u001b[0m\u001b[0;34m]\u001b[0m\u001b[0;34m,\u001b[0m\u001b[0;34m[\u001b[0m\u001b[0;36m5.6\u001b[0m\u001b[0;34m,\u001b[0m \u001b[0;36m7\u001b[0m\u001b[0;34m,\u001b[0m \u001b[0;36m2.4\u001b[0m\u001b[0;34m+\u001b[0m\u001b[0;36m3.6\u001b[0m\u001b[0;34m]\u001b[0m\u001b[0;34m]\u001b[0m\u001b[0;34m)\u001b[0m\u001b[0;34m.\u001b[0m\u001b[0mastype\u001b[0m\u001b[0;34m(\u001b[0m\u001b[0mint32\u001b[0m\u001b[0;34m)\u001b[0m\u001b[0;34m\u001b[0m\u001b[0;34m\u001b[0m\u001b[0m\n\u001b[0m",
      "\u001b[0;31mNameError\u001b[0m: name 'int32' is not defined"
     ]
    }
   ],
   "source": [
    "tt = np.array([[-1.9, -0.2, 3.4],[5.6, 7, 2.4+3.6]]).astype(int32)"
   ]
  },
  {
   "cell_type": "code",
   "execution_count": 45,
   "metadata": {},
   "outputs": [
    {
     "data": {
      "text/plain": [
       "numpy.float64"
      ]
     },
     "execution_count": 45,
     "metadata": {},
     "output_type": "execute_result"
    }
   ],
   "source": [
    "type(np.ceil(tt)[0][0])"
   ]
  },
  {
   "cell_type": "code",
   "execution_count": null,
   "metadata": {},
   "outputs": [],
   "source": []
  }
 ],
 "metadata": {
  "kernelspec": {
   "display_name": "Python 3.9.7 64-bit ('base': conda)",
   "language": "python",
   "name": "python397jvsc74a57bd0865341e89f2e5239c371fa028ac8e7108d501ca2848c93426b974b9707fda5ee"
  },
  "language_info": {
   "codemirror_mode": {
    "name": "ipython",
    "version": 3
   },
   "file_extension": ".py",
   "mimetype": "text/x-python",
   "name": "python",
   "nbconvert_exporter": "python",
   "pygments_lexer": "ipython3",
   "version": "3.9.7"
  }
 },
 "nbformat": 4,
 "nbformat_minor": 4
}
